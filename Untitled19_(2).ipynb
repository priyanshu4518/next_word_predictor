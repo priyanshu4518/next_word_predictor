{
  "nbformat": 4,
  "nbformat_minor": 0,
  "metadata": {
    "colab": {
      "provenance": [],
      "gpuType": "V28"
    },
    "kernelspec": {
      "name": "python3",
      "display_name": "Python 3"
    },
    "language_info": {
      "name": "python"
    },
    "accelerator": "TPU"
  },
  "cells": [
    {
      "cell_type": "code",
      "execution_count": 1,
      "metadata": {
        "id": "_BFLkbfWMh6d"
      },
      "outputs": [],
      "source": [
        "import pandas as pd\n",
        "import numpy as np\n",
        "\n",
        "\n"
      ]
    },
    {
      "cell_type": "code",
      "source": [
        "dt=pd.read_csv('dataset.txt',sep='\\t',header=None)\n",
        "\n"
      ],
      "metadata": {
        "id": "enNjWv6EM2_h"
      },
      "execution_count": 2,
      "outputs": []
    },
    {
      "cell_type": "code",
      "source": [
        "dt\n"
      ],
      "metadata": {
        "colab": {
          "base_uri": "https://localhost:8080/",
          "height": 423
        },
        "id": "WjTm-H-vNLNQ",
        "outputId": "29d71fe1-d44a-4f62-8a22-bbbc491426c7"
      },
      "execution_count": 3,
      "outputs": [
        {
          "output_type": "execute_result",
          "data": {
            "text/plain": [
              "                                                      0\n",
              "0     Project Gutenberg's The Adventures of Sherlock...\n",
              "1     This eBook is for the use of anyone anywhere a...\n",
              "2     almost no restrictions whatsoever.  You may co...\n",
              "3     re-use it under the terms of the Project Guten...\n",
              "4        with this eBook or online at www.gutenberg.net\n",
              "...                                                 ...\n",
              "1697  centre of the lid. Its splendour was in such c...\n",
              "1698  ways and simple life that I could not help com...\n",
              "1699  “Ah,” said he, “I forgot that I had not seen y...\n",
              "1700  a little souvenir from the King of Bohemia in ...\n",
              "1701                     in the case of the Irene Adler\n",
              "\n",
              "[1702 rows x 1 columns]"
            ],
            "text/html": [
              "\n",
              "  <div id=\"df-85b6aec3-ff56-4b60-abaa-b653fdbe1720\" class=\"colab-df-container\">\n",
              "    <div>\n",
              "<style scoped>\n",
              "    .dataframe tbody tr th:only-of-type {\n",
              "        vertical-align: middle;\n",
              "    }\n",
              "\n",
              "    .dataframe tbody tr th {\n",
              "        vertical-align: top;\n",
              "    }\n",
              "\n",
              "    .dataframe thead th {\n",
              "        text-align: right;\n",
              "    }\n",
              "</style>\n",
              "<table border=\"1\" class=\"dataframe\">\n",
              "  <thead>\n",
              "    <tr style=\"text-align: right;\">\n",
              "      <th></th>\n",
              "      <th>0</th>\n",
              "    </tr>\n",
              "  </thead>\n",
              "  <tbody>\n",
              "    <tr>\n",
              "      <th>0</th>\n",
              "      <td>Project Gutenberg's The Adventures of Sherlock...</td>\n",
              "    </tr>\n",
              "    <tr>\n",
              "      <th>1</th>\n",
              "      <td>This eBook is for the use of anyone anywhere a...</td>\n",
              "    </tr>\n",
              "    <tr>\n",
              "      <th>2</th>\n",
              "      <td>almost no restrictions whatsoever.  You may co...</td>\n",
              "    </tr>\n",
              "    <tr>\n",
              "      <th>3</th>\n",
              "      <td>re-use it under the terms of the Project Guten...</td>\n",
              "    </tr>\n",
              "    <tr>\n",
              "      <th>4</th>\n",
              "      <td>with this eBook or online at www.gutenberg.net</td>\n",
              "    </tr>\n",
              "    <tr>\n",
              "      <th>...</th>\n",
              "      <td>...</td>\n",
              "    </tr>\n",
              "    <tr>\n",
              "      <th>1697</th>\n",
              "      <td>centre of the lid. Its splendour was in such c...</td>\n",
              "    </tr>\n",
              "    <tr>\n",
              "      <th>1698</th>\n",
              "      <td>ways and simple life that I could not help com...</td>\n",
              "    </tr>\n",
              "    <tr>\n",
              "      <th>1699</th>\n",
              "      <td>“Ah,” said he, “I forgot that I had not seen y...</td>\n",
              "    </tr>\n",
              "    <tr>\n",
              "      <th>1700</th>\n",
              "      <td>a little souvenir from the King of Bohemia in ...</td>\n",
              "    </tr>\n",
              "    <tr>\n",
              "      <th>1701</th>\n",
              "      <td>in the case of the Irene Adler</td>\n",
              "    </tr>\n",
              "  </tbody>\n",
              "</table>\n",
              "<p>1702 rows × 1 columns</p>\n",
              "</div>\n",
              "    <div class=\"colab-df-buttons\">\n",
              "\n",
              "  <div class=\"colab-df-container\">\n",
              "    <button class=\"colab-df-convert\" onclick=\"convertToInteractive('df-85b6aec3-ff56-4b60-abaa-b653fdbe1720')\"\n",
              "            title=\"Convert this dataframe to an interactive table.\"\n",
              "            style=\"display:none;\">\n",
              "\n",
              "  <svg xmlns=\"http://www.w3.org/2000/svg\" height=\"24px\" viewBox=\"0 -960 960 960\">\n",
              "    <path d=\"M120-120v-720h720v720H120Zm60-500h600v-160H180v160Zm220 220h160v-160H400v160Zm0 220h160v-160H400v160ZM180-400h160v-160H180v160Zm440 0h160v-160H620v160ZM180-180h160v-160H180v160Zm440 0h160v-160H620v160Z\"/>\n",
              "  </svg>\n",
              "    </button>\n",
              "\n",
              "  <style>\n",
              "    .colab-df-container {\n",
              "      display:flex;\n",
              "      gap: 12px;\n",
              "    }\n",
              "\n",
              "    .colab-df-convert {\n",
              "      background-color: #E8F0FE;\n",
              "      border: none;\n",
              "      border-radius: 50%;\n",
              "      cursor: pointer;\n",
              "      display: none;\n",
              "      fill: #1967D2;\n",
              "      height: 32px;\n",
              "      padding: 0 0 0 0;\n",
              "      width: 32px;\n",
              "    }\n",
              "\n",
              "    .colab-df-convert:hover {\n",
              "      background-color: #E2EBFA;\n",
              "      box-shadow: 0px 1px 2px rgba(60, 64, 67, 0.3), 0px 1px 3px 1px rgba(60, 64, 67, 0.15);\n",
              "      fill: #174EA6;\n",
              "    }\n",
              "\n",
              "    .colab-df-buttons div {\n",
              "      margin-bottom: 4px;\n",
              "    }\n",
              "\n",
              "    [theme=dark] .colab-df-convert {\n",
              "      background-color: #3B4455;\n",
              "      fill: #D2E3FC;\n",
              "    }\n",
              "\n",
              "    [theme=dark] .colab-df-convert:hover {\n",
              "      background-color: #434B5C;\n",
              "      box-shadow: 0px 1px 3px 1px rgba(0, 0, 0, 0.15);\n",
              "      filter: drop-shadow(0px 1px 2px rgba(0, 0, 0, 0.3));\n",
              "      fill: #FFFFFF;\n",
              "    }\n",
              "  </style>\n",
              "\n",
              "    <script>\n",
              "      const buttonEl =\n",
              "        document.querySelector('#df-85b6aec3-ff56-4b60-abaa-b653fdbe1720 button.colab-df-convert');\n",
              "      buttonEl.style.display =\n",
              "        google.colab.kernel.accessAllowed ? 'block' : 'none';\n",
              "\n",
              "      async function convertToInteractive(key) {\n",
              "        const element = document.querySelector('#df-85b6aec3-ff56-4b60-abaa-b653fdbe1720');\n",
              "        const dataTable =\n",
              "          await google.colab.kernel.invokeFunction('convertToInteractive',\n",
              "                                                    [key], {});\n",
              "        if (!dataTable) return;\n",
              "\n",
              "        const docLinkHtml = 'Like what you see? Visit the ' +\n",
              "          '<a target=\"_blank\" href=https://colab.research.google.com/notebooks/data_table.ipynb>data table notebook</a>'\n",
              "          + ' to learn more about interactive tables.';\n",
              "        element.innerHTML = '';\n",
              "        dataTable['output_type'] = 'display_data';\n",
              "        await google.colab.output.renderOutput(dataTable, element);\n",
              "        const docLink = document.createElement('div');\n",
              "        docLink.innerHTML = docLinkHtml;\n",
              "        element.appendChild(docLink);\n",
              "      }\n",
              "    </script>\n",
              "  </div>\n",
              "\n",
              "\n",
              "<div id=\"df-bce34b50-26a9-46e4-84e9-418d666f15ac\">\n",
              "  <button class=\"colab-df-quickchart\" onclick=\"quickchart('df-bce34b50-26a9-46e4-84e9-418d666f15ac')\"\n",
              "            title=\"Suggest charts\"\n",
              "            style=\"display:none;\">\n",
              "\n",
              "<svg xmlns=\"http://www.w3.org/2000/svg\" height=\"24px\"viewBox=\"0 0 24 24\"\n",
              "     width=\"24px\">\n",
              "    <g>\n",
              "        <path d=\"M19 3H5c-1.1 0-2 .9-2 2v14c0 1.1.9 2 2 2h14c1.1 0 2-.9 2-2V5c0-1.1-.9-2-2-2zM9 17H7v-7h2v7zm4 0h-2V7h2v10zm4 0h-2v-4h2v4z\"/>\n",
              "    </g>\n",
              "</svg>\n",
              "  </button>\n",
              "\n",
              "<style>\n",
              "  .colab-df-quickchart {\n",
              "      --bg-color: #E8F0FE;\n",
              "      --fill-color: #1967D2;\n",
              "      --hover-bg-color: #E2EBFA;\n",
              "      --hover-fill-color: #174EA6;\n",
              "      --disabled-fill-color: #AAA;\n",
              "      --disabled-bg-color: #DDD;\n",
              "  }\n",
              "\n",
              "  [theme=dark] .colab-df-quickchart {\n",
              "      --bg-color: #3B4455;\n",
              "      --fill-color: #D2E3FC;\n",
              "      --hover-bg-color: #434B5C;\n",
              "      --hover-fill-color: #FFFFFF;\n",
              "      --disabled-bg-color: #3B4455;\n",
              "      --disabled-fill-color: #666;\n",
              "  }\n",
              "\n",
              "  .colab-df-quickchart {\n",
              "    background-color: var(--bg-color);\n",
              "    border: none;\n",
              "    border-radius: 50%;\n",
              "    cursor: pointer;\n",
              "    display: none;\n",
              "    fill: var(--fill-color);\n",
              "    height: 32px;\n",
              "    padding: 0;\n",
              "    width: 32px;\n",
              "  }\n",
              "\n",
              "  .colab-df-quickchart:hover {\n",
              "    background-color: var(--hover-bg-color);\n",
              "    box-shadow: 0 1px 2px rgba(60, 64, 67, 0.3), 0 1px 3px 1px rgba(60, 64, 67, 0.15);\n",
              "    fill: var(--button-hover-fill-color);\n",
              "  }\n",
              "\n",
              "  .colab-df-quickchart-complete:disabled,\n",
              "  .colab-df-quickchart-complete:disabled:hover {\n",
              "    background-color: var(--disabled-bg-color);\n",
              "    fill: var(--disabled-fill-color);\n",
              "    box-shadow: none;\n",
              "  }\n",
              "\n",
              "  .colab-df-spinner {\n",
              "    border: 2px solid var(--fill-color);\n",
              "    border-color: transparent;\n",
              "    border-bottom-color: var(--fill-color);\n",
              "    animation:\n",
              "      spin 1s steps(1) infinite;\n",
              "  }\n",
              "\n",
              "  @keyframes spin {\n",
              "    0% {\n",
              "      border-color: transparent;\n",
              "      border-bottom-color: var(--fill-color);\n",
              "      border-left-color: var(--fill-color);\n",
              "    }\n",
              "    20% {\n",
              "      border-color: transparent;\n",
              "      border-left-color: var(--fill-color);\n",
              "      border-top-color: var(--fill-color);\n",
              "    }\n",
              "    30% {\n",
              "      border-color: transparent;\n",
              "      border-left-color: var(--fill-color);\n",
              "      border-top-color: var(--fill-color);\n",
              "      border-right-color: var(--fill-color);\n",
              "    }\n",
              "    40% {\n",
              "      border-color: transparent;\n",
              "      border-right-color: var(--fill-color);\n",
              "      border-top-color: var(--fill-color);\n",
              "    }\n",
              "    60% {\n",
              "      border-color: transparent;\n",
              "      border-right-color: var(--fill-color);\n",
              "    }\n",
              "    80% {\n",
              "      border-color: transparent;\n",
              "      border-right-color: var(--fill-color);\n",
              "      border-bottom-color: var(--fill-color);\n",
              "    }\n",
              "    90% {\n",
              "      border-color: transparent;\n",
              "      border-bottom-color: var(--fill-color);\n",
              "    }\n",
              "  }\n",
              "</style>\n",
              "\n",
              "  <script>\n",
              "    async function quickchart(key) {\n",
              "      const quickchartButtonEl =\n",
              "        document.querySelector('#' + key + ' button');\n",
              "      quickchartButtonEl.disabled = true;  // To prevent multiple clicks.\n",
              "      quickchartButtonEl.classList.add('colab-df-spinner');\n",
              "      try {\n",
              "        const charts = await google.colab.kernel.invokeFunction(\n",
              "            'suggestCharts', [key], {});\n",
              "      } catch (error) {\n",
              "        console.error('Error during call to suggestCharts:', error);\n",
              "      }\n",
              "      quickchartButtonEl.classList.remove('colab-df-spinner');\n",
              "      quickchartButtonEl.classList.add('colab-df-quickchart-complete');\n",
              "    }\n",
              "    (() => {\n",
              "      let quickchartButtonEl =\n",
              "        document.querySelector('#df-bce34b50-26a9-46e4-84e9-418d666f15ac button');\n",
              "      quickchartButtonEl.style.display =\n",
              "        google.colab.kernel.accessAllowed ? 'block' : 'none';\n",
              "    })();\n",
              "  </script>\n",
              "</div>\n",
              "\n",
              "  <div id=\"id_0b209a00-e98d-40d2-bc2c-9b19ae159680\">\n",
              "    <style>\n",
              "      .colab-df-generate {\n",
              "        background-color: #E8F0FE;\n",
              "        border: none;\n",
              "        border-radius: 50%;\n",
              "        cursor: pointer;\n",
              "        display: none;\n",
              "        fill: #1967D2;\n",
              "        height: 32px;\n",
              "        padding: 0 0 0 0;\n",
              "        width: 32px;\n",
              "      }\n",
              "\n",
              "      .colab-df-generate:hover {\n",
              "        background-color: #E2EBFA;\n",
              "        box-shadow: 0px 1px 2px rgba(60, 64, 67, 0.3), 0px 1px 3px 1px rgba(60, 64, 67, 0.15);\n",
              "        fill: #174EA6;\n",
              "      }\n",
              "\n",
              "      [theme=dark] .colab-df-generate {\n",
              "        background-color: #3B4455;\n",
              "        fill: #D2E3FC;\n",
              "      }\n",
              "\n",
              "      [theme=dark] .colab-df-generate:hover {\n",
              "        background-color: #434B5C;\n",
              "        box-shadow: 0px 1px 3px 1px rgba(0, 0, 0, 0.15);\n",
              "        filter: drop-shadow(0px 1px 2px rgba(0, 0, 0, 0.3));\n",
              "        fill: #FFFFFF;\n",
              "      }\n",
              "    </style>\n",
              "    <button class=\"colab-df-generate\" onclick=\"generateWithVariable('dt')\"\n",
              "            title=\"Generate code using this dataframe.\"\n",
              "            style=\"display:none;\">\n",
              "\n",
              "  <svg xmlns=\"http://www.w3.org/2000/svg\" height=\"24px\"viewBox=\"0 0 24 24\"\n",
              "       width=\"24px\">\n",
              "    <path d=\"M7,19H8.4L18.45,9,17,7.55,7,17.6ZM5,21V16.75L18.45,3.32a2,2,0,0,1,2.83,0l1.4,1.43a1.91,1.91,0,0,1,.58,1.4,1.91,1.91,0,0,1-.58,1.4L9.25,21ZM18.45,9,17,7.55Zm-12,3A5.31,5.31,0,0,0,4.9,8.1,5.31,5.31,0,0,0,1,6.5,5.31,5.31,0,0,0,4.9,4.9,5.31,5.31,0,0,0,6.5,1,5.31,5.31,0,0,0,8.1,4.9,5.31,5.31,0,0,0,12,6.5,5.46,5.46,0,0,0,6.5,12Z\"/>\n",
              "  </svg>\n",
              "    </button>\n",
              "    <script>\n",
              "      (() => {\n",
              "      const buttonEl =\n",
              "        document.querySelector('#id_0b209a00-e98d-40d2-bc2c-9b19ae159680 button.colab-df-generate');\n",
              "      buttonEl.style.display =\n",
              "        google.colab.kernel.accessAllowed ? 'block' : 'none';\n",
              "\n",
              "      buttonEl.onclick = () => {\n",
              "        google.colab.notebook.generateWithVariable('dt');\n",
              "      }\n",
              "      })();\n",
              "    </script>\n",
              "  </div>\n",
              "\n",
              "    </div>\n",
              "  </div>\n"
            ],
            "application/vnd.google.colaboratory.intrinsic+json": {
              "type": "dataframe",
              "variable_name": "dt",
              "summary": "{\n  \"name\": \"dt\",\n  \"rows\": 1702,\n  \"fields\": [\n    {\n      \"column\": 0,\n      \"properties\": {\n        \"dtype\": \"string\",\n        \"num_unique_values\": 1696,\n        \"samples\": [\n          \"scissors-grinder, who was equally hot upon the other side. A blow was\",\n          \"I could not help laughing at the ease with which he explained his\",\n          \"over a sheet of thick, pink-tinted notepaper which had been lying open\"\n        ],\n        \"semantic_type\": \"\",\n        \"description\": \"\"\n      }\n    }\n  ]\n}"
            }
          },
          "metadata": {},
          "execution_count": 3
        }
      ]
    },
    {
      "cell_type": "code",
      "source": [
        "import tensorflow as tf\n",
        "from tensorflow import keras\n",
        "from keras import Sequential\n",
        "from tensorflow.keras.preprocessing.text import Tokenizer\n"
      ],
      "metadata": {
        "id": "onPhNamlNNTu"
      },
      "execution_count": 4,
      "outputs": []
    },
    {
      "cell_type": "code",
      "source": [
        "tokenizer=Tokenizer()\n",
        "tokenizer.fit_on_texts(dt[0])\n",
        "\n",
        "\n",
        "\n"
      ],
      "metadata": {
        "id": "Jfz-xTd8Nzdd"
      },
      "execution_count": 5,
      "outputs": []
    },
    {
      "cell_type": "code",
      "source": [
        "tokenized_sentence=tokenizer.texts_to_sequences(dt[0])\n",
        "\n",
        "\n",
        "\n"
      ],
      "metadata": {
        "id": "Gebqnf-pO0-3"
      },
      "execution_count": 6,
      "outputs": []
    },
    {
      "cell_type": "code",
      "source": [
        "input_sequence=[]\n",
        "for i in range(len(tokenized_sentence)):\n",
        "  for j in range(len(tokenized_sentence[i])):\n",
        "    input_sequence.append(tokenized_sentence[i][:j+1])\n"
      ],
      "metadata": {
        "id": "LprVzhYXPu13"
      },
      "execution_count": 7,
      "outputs": []
    },
    {
      "cell_type": "code",
      "source": [
        "max_length=max([len(i) for i in input_sequence])\n",
        "\n",
        "\n",
        "\n"
      ],
      "metadata": {
        "id": "J4H1-HNyQkr_"
      },
      "execution_count": 8,
      "outputs": []
    },
    {
      "cell_type": "code",
      "source": [
        "from keras.preprocessing.sequence import pad_sequences\n",
        "input_sequence2=pad_sequences(input_sequence,maxlen=max_length,padding='pre')\n",
        "\n"
      ],
      "metadata": {
        "id": "mfi4Yk_MRfXj"
      },
      "execution_count": 9,
      "outputs": []
    },
    {
      "cell_type": "code",
      "source": [
        "x=input_sequence2[:,:-1]\n",
        "y=input_sequence2[:,-1]\n"
      ],
      "metadata": {
        "id": "orpfplUDSIDI"
      },
      "execution_count": 10,
      "outputs": []
    },
    {
      "cell_type": "code",
      "source": [
        "x.shape\n",
        "\n",
        "\n",
        "\n"
      ],
      "metadata": {
        "colab": {
          "base_uri": "https://localhost:8080/"
        },
        "id": "-GuKp3mTTH2z",
        "outputId": "4a103d15-d7e3-4629-cc32-f3b2b0ff34a9"
      },
      "execution_count": 11,
      "outputs": [
        {
          "output_type": "execute_result",
          "data": {
            "text/plain": [
              "(19091, 19)"
            ]
          },
          "metadata": {},
          "execution_count": 11
        }
      ]
    },
    {
      "cell_type": "code",
      "source": [
        "y.shape\n"
      ],
      "metadata": {
        "colab": {
          "base_uri": "https://localhost:8080/"
        },
        "id": "0P5u5zuvTb-L",
        "outputId": "10412d46-8b65-488b-f9e2-674a7c40972c"
      },
      "execution_count": 12,
      "outputs": [
        {
          "output_type": "execute_result",
          "data": {
            "text/plain": [
              "(19091,)"
            ]
          },
          "metadata": {},
          "execution_count": 12
        }
      ]
    },
    {
      "cell_type": "code",
      "source": [
        "from tensorflow.keras.utils import to_categorical\n"
      ],
      "metadata": {
        "id": "hxNkvM-UT3iE"
      },
      "execution_count": 13,
      "outputs": []
    },
    {
      "cell_type": "code",
      "source": [
        "y=to_categorical(y,num_classes=len(tokenizer.word_index)+1)\n",
        "len(tokenizer.word_index)\n",
        "\n",
        "\n",
        "\n",
        "\n",
        "\n",
        "\n",
        "\n"
      ],
      "metadata": {
        "colab": {
          "base_uri": "https://localhost:8080/"
        },
        "id": "Np0m_v6_T_y1",
        "outputId": "95c875e9-1681-41ea-8ded-a12d339df9ef"
      },
      "execution_count": 14,
      "outputs": [
        {
          "output_type": "execute_result",
          "data": {
            "text/plain": [
              "3386"
            ]
          },
          "metadata": {},
          "execution_count": 14
        }
      ]
    },
    {
      "cell_type": "code",
      "source": [
        "y.shape\n"
      ],
      "metadata": {
        "colab": {
          "base_uri": "https://localhost:8080/"
        },
        "id": "KA2fSETGUnLX",
        "outputId": "b30006f1-3ae1-475e-9cf4-5a1703cb79d8"
      },
      "execution_count": 15,
      "outputs": [
        {
          "output_type": "execute_result",
          "data": {
            "text/plain": [
              "(19091, 3387)"
            ]
          },
          "metadata": {},
          "execution_count": 15
        }
      ]
    },
    {
      "cell_type": "code",
      "source": [
        "from tensorflow.keras.models import Sequential\n",
        "from keras.layers import Embedding,LSTM,Dense\n",
        "\n",
        "\n",
        "\n"
      ],
      "metadata": {
        "id": "--6Zm1-tUuZc"
      },
      "execution_count": 16,
      "outputs": []
    },
    {
      "cell_type": "code",
      "source": [
        "model=Sequential()\n",
        "model.add(Embedding(3387,100,input_shape=(19,)))\n",
        "model.add(LSTM(200))\n",
        "model.add(Dense(3387,activation='softmax'))\n",
        "model.summary()\n",
        "\n",
        "\n",
        "\n",
        "\n",
        "\n",
        "\n",
        "\n",
        "\n",
        "\n",
        "\n",
        "\n"
      ],
      "metadata": {
        "colab": {
          "base_uri": "https://localhost:8080/"
        },
        "id": "GxhQcL8hVY2z",
        "outputId": "36d03f9b-dc8b-4938-9684-02e7e262bdab"
      },
      "execution_count": 20,
      "outputs": [
        {
          "output_type": "stream",
          "name": "stdout",
          "text": [
            "Model: \"sequential_2\"\n",
            "_________________________________________________________________\n",
            " Layer (type)                Output Shape              Param #   \n",
            "=================================================================\n",
            " embedding_2 (Embedding)     (None, 19, 100)           338700    \n",
            "                                                                 \n",
            " lstm_3 (LSTM)               (None, 200)               240800    \n",
            "                                                                 \n",
            " dense_2 (Dense)             (None, 3387)              680787    \n",
            "                                                                 \n",
            "=================================================================\n",
            "Total params: 1260287 (4.81 MB)\n",
            "Trainable params: 1260287 (4.81 MB)\n",
            "Non-trainable params: 0 (0.00 Byte)\n",
            "_________________________________________________________________\n"
          ]
        }
      ]
    },
    {
      "cell_type": "code",
      "source": [
        "model.compile(optimizer='Adam',loss='categorical_crossentropy',metrics=['accuracy'])\n",
        "model.fit(x,y,epochs=80,batch_size=32)\n",
        "\n",
        "\n",
        "\n",
        "\n",
        "\n"
      ],
      "metadata": {
        "colab": {
          "base_uri": "https://localhost:8080/"
        },
        "id": "XyN37hLWXbAW",
        "outputId": "5672dc4b-e4b2-45cd-e57e-59fab66f592a"
      },
      "execution_count": 22,
      "outputs": [
        {
          "output_type": "stream",
          "name": "stdout",
          "text": [
            "Epoch 1/80\n",
            "597/597 [==============================] - 18s 28ms/step - loss: 6.5498 - accuracy: 0.0524\n",
            "Epoch 2/80\n",
            "597/597 [==============================] - 17s 28ms/step - loss: 6.0749 - accuracy: 0.0629\n",
            "Epoch 3/80\n",
            "597/597 [==============================] - 17s 28ms/step - loss: 5.7592 - accuracy: 0.0775\n",
            "Epoch 4/80\n",
            "597/597 [==============================] - 17s 28ms/step - loss: 5.4062 - accuracy: 0.1073\n",
            "Epoch 5/80\n",
            "597/597 [==============================] - 17s 28ms/step - loss: 5.0785 - accuracy: 0.1256\n",
            "Epoch 6/80\n",
            "597/597 [==============================] - 16s 28ms/step - loss: 4.7600 - accuracy: 0.1456\n",
            "Epoch 7/80\n",
            "597/597 [==============================] - 16s 28ms/step - loss: 4.4466 - accuracy: 0.1671\n",
            "Epoch 8/80\n",
            "597/597 [==============================] - 16s 28ms/step - loss: 4.1315 - accuracy: 0.1992\n",
            "Epoch 9/80\n",
            "597/597 [==============================] - 17s 28ms/step - loss: 3.8301 - accuracy: 0.2369\n",
            "Epoch 10/80\n",
            "597/597 [==============================] - 17s 28ms/step - loss: 3.5345 - accuracy: 0.2825\n",
            "Epoch 11/80\n",
            "597/597 [==============================] - 16s 28ms/step - loss: 3.2575 - accuracy: 0.3329\n",
            "Epoch 12/80\n",
            "597/597 [==============================] - 16s 28ms/step - loss: 2.9974 - accuracy: 0.3837\n",
            "Epoch 13/80\n",
            "597/597 [==============================] - 17s 28ms/step - loss: 2.7600 - accuracy: 0.4362\n",
            "Epoch 14/80\n",
            "597/597 [==============================] - 17s 28ms/step - loss: 2.5375 - accuracy: 0.4847\n",
            "Epoch 15/80\n",
            "597/597 [==============================] - 17s 29ms/step - loss: 2.3385 - accuracy: 0.5279\n",
            "Epoch 16/80\n",
            "597/597 [==============================] - 17s 28ms/step - loss: 2.1559 - accuracy: 0.5716\n",
            "Epoch 17/80\n",
            "597/597 [==============================] - 16s 28ms/step - loss: 1.9854 - accuracy: 0.6108\n",
            "Epoch 18/80\n",
            "597/597 [==============================] - 17s 28ms/step - loss: 1.8314 - accuracy: 0.6460\n",
            "Epoch 19/80\n",
            "597/597 [==============================] - 16s 28ms/step - loss: 1.6911 - accuracy: 0.6817\n",
            "Epoch 20/80\n",
            "597/597 [==============================] - 17s 28ms/step - loss: 1.5659 - accuracy: 0.7101\n",
            "Epoch 21/80\n",
            "597/597 [==============================] - 17s 28ms/step - loss: 1.4511 - accuracy: 0.7376\n",
            "Epoch 22/80\n",
            "597/597 [==============================] - 16s 28ms/step - loss: 1.3480 - accuracy: 0.7626\n",
            "Epoch 23/80\n",
            "597/597 [==============================] - 17s 28ms/step - loss: 1.2580 - accuracy: 0.7799\n",
            "Epoch 24/80\n",
            "597/597 [==============================] - 16s 28ms/step - loss: 1.1761 - accuracy: 0.7983\n",
            "Epoch 25/80\n",
            "597/597 [==============================] - 17s 28ms/step - loss: 1.1055 - accuracy: 0.8122\n",
            "Epoch 26/80\n",
            "597/597 [==============================] - 17s 28ms/step - loss: 1.0439 - accuracy: 0.8239\n",
            "Epoch 27/80\n",
            "597/597 [==============================] - 16s 28ms/step - loss: 0.9923 - accuracy: 0.8327\n",
            "Epoch 28/80\n",
            "597/597 [==============================] - 17s 28ms/step - loss: 0.9483 - accuracy: 0.8381\n",
            "Epoch 29/80\n",
            "597/597 [==============================] - 17s 28ms/step - loss: 0.9129 - accuracy: 0.8436\n",
            "Epoch 30/80\n",
            "597/597 [==============================] - 17s 28ms/step - loss: 0.8819 - accuracy: 0.8467\n",
            "Epoch 31/80\n",
            "597/597 [==============================] - 16s 28ms/step - loss: 0.8546 - accuracy: 0.8492\n",
            "Epoch 32/80\n",
            "597/597 [==============================] - 16s 28ms/step - loss: 0.8332 - accuracy: 0.8524\n",
            "Epoch 33/80\n",
            "597/597 [==============================] - 17s 28ms/step - loss: 0.8167 - accuracy: 0.8524\n",
            "Epoch 34/80\n",
            "597/597 [==============================] - 17s 28ms/step - loss: 0.8040 - accuracy: 0.8514\n",
            "Epoch 35/80\n",
            "597/597 [==============================] - 17s 28ms/step - loss: 0.7911 - accuracy: 0.8530\n",
            "Epoch 36/80\n",
            "597/597 [==============================] - 17s 28ms/step - loss: 0.7855 - accuracy: 0.8530\n",
            "Epoch 37/80\n",
            "597/597 [==============================] - 16s 27ms/step - loss: 0.7756 - accuracy: 0.8536\n",
            "Epoch 38/80\n",
            "597/597 [==============================] - 16s 28ms/step - loss: 0.7691 - accuracy: 0.8528\n",
            "Epoch 39/80\n",
            "597/597 [==============================] - 17s 28ms/step - loss: 0.7650 - accuracy: 0.8523\n",
            "Epoch 40/80\n",
            "597/597 [==============================] - 17s 28ms/step - loss: 0.7596 - accuracy: 0.8533\n",
            "Epoch 41/80\n",
            "597/597 [==============================] - 17s 28ms/step - loss: 0.7545 - accuracy: 0.8530\n",
            "Epoch 42/80\n",
            "597/597 [==============================] - 16s 28ms/step - loss: 0.7537 - accuracy: 0.8528\n",
            "Epoch 43/80\n",
            "597/597 [==============================] - 16s 28ms/step - loss: 0.7491 - accuracy: 0.8526\n",
            "Epoch 44/80\n",
            "597/597 [==============================] - 16s 27ms/step - loss: 0.7492 - accuracy: 0.8523\n",
            "Epoch 45/80\n",
            "597/597 [==============================] - 17s 28ms/step - loss: 0.7528 - accuracy: 0.8527\n",
            "Epoch 46/80\n",
            "597/597 [==============================] - 16s 28ms/step - loss: 0.7433 - accuracy: 0.8534\n",
            "Epoch 47/80\n",
            "597/597 [==============================] - 17s 28ms/step - loss: 0.7373 - accuracy: 0.8536\n",
            "Epoch 48/80\n",
            "597/597 [==============================] - 16s 28ms/step - loss: 0.7357 - accuracy: 0.8527\n",
            "Epoch 49/80\n",
            "597/597 [==============================] - 16s 27ms/step - loss: 0.7343 - accuracy: 0.8534\n",
            "Epoch 50/80\n",
            "597/597 [==============================] - 17s 28ms/step - loss: 0.7327 - accuracy: 0.8543\n",
            "Epoch 51/80\n",
            "597/597 [==============================] - 16s 27ms/step - loss: 0.7310 - accuracy: 0.8535\n",
            "Epoch 52/80\n",
            "597/597 [==============================] - 17s 28ms/step - loss: 0.7338 - accuracy: 0.8534\n",
            "Epoch 53/80\n",
            "597/597 [==============================] - 17s 28ms/step - loss: 0.7928 - accuracy: 0.8411\n",
            "Epoch 54/80\n",
            "597/597 [==============================] - 16s 28ms/step - loss: 0.7427 - accuracy: 0.8519\n",
            "Epoch 55/80\n",
            "597/597 [==============================] - 16s 28ms/step - loss: 0.7250 - accuracy: 0.8538\n",
            "Epoch 56/80\n",
            "597/597 [==============================] - 16s 27ms/step - loss: 0.7233 - accuracy: 0.8535\n",
            "Epoch 57/80\n",
            "597/597 [==============================] - 17s 28ms/step - loss: 0.7236 - accuracy: 0.8528\n",
            "Epoch 58/80\n",
            "597/597 [==============================] - 17s 28ms/step - loss: 0.7232 - accuracy: 0.8537\n",
            "Epoch 59/80\n",
            "597/597 [==============================] - 17s 28ms/step - loss: 0.7230 - accuracy: 0.8525\n",
            "Epoch 60/80\n",
            "597/597 [==============================] - 17s 28ms/step - loss: 0.7227 - accuracy: 0.8529\n",
            "Epoch 61/80\n",
            "597/597 [==============================] - 16s 27ms/step - loss: 0.7224 - accuracy: 0.8536\n",
            "Epoch 62/80\n",
            "597/597 [==============================] - 16s 27ms/step - loss: 0.7216 - accuracy: 0.8541\n",
            "Epoch 63/80\n",
            "597/597 [==============================] - 17s 28ms/step - loss: 0.7234 - accuracy: 0.8529\n",
            "Epoch 64/80\n",
            "597/597 [==============================] - 17s 28ms/step - loss: 0.7925 - accuracy: 0.8371\n",
            "Epoch 65/80\n",
            "597/597 [==============================] - 16s 28ms/step - loss: 0.7272 - accuracy: 0.8536\n",
            "Epoch 66/80\n",
            "597/597 [==============================] - 16s 27ms/step - loss: 0.7162 - accuracy: 0.8539\n",
            "Epoch 67/80\n",
            "597/597 [==============================] - 16s 27ms/step - loss: 0.7155 - accuracy: 0.8537\n",
            "Epoch 68/80\n",
            "597/597 [==============================] - 17s 28ms/step - loss: 0.7161 - accuracy: 0.8532\n",
            "Epoch 69/80\n",
            "597/597 [==============================] - 17s 28ms/step - loss: 0.7160 - accuracy: 0.8540\n",
            "Epoch 70/80\n",
            "597/597 [==============================] - 17s 28ms/step - loss: 0.7158 - accuracy: 0.8556\n",
            "Epoch 71/80\n",
            "597/597 [==============================] - 17s 28ms/step - loss: 0.7163 - accuracy: 0.8531\n",
            "Epoch 72/80\n",
            "597/597 [==============================] - 17s 28ms/step - loss: 0.7156 - accuracy: 0.8544\n",
            "Epoch 73/80\n",
            "597/597 [==============================] - 16s 27ms/step - loss: 0.7155 - accuracy: 0.8536\n",
            "Epoch 74/80\n",
            "597/597 [==============================] - 16s 28ms/step - loss: 0.7161 - accuracy: 0.8532\n",
            "Epoch 75/80\n",
            "597/597 [==============================] - 17s 28ms/step - loss: 0.7156 - accuracy: 0.8542\n",
            "Epoch 76/80\n",
            "597/597 [==============================] - 16s 28ms/step - loss: 0.7146 - accuracy: 0.8542\n",
            "Epoch 77/80\n",
            "597/597 [==============================] - 17s 28ms/step - loss: 0.7691 - accuracy: 0.8399\n",
            "Epoch 78/80\n",
            "597/597 [==============================] - 17s 28ms/step - loss: 0.7416 - accuracy: 0.8482\n",
            "Epoch 79/80\n",
            "597/597 [==============================] - 16s 28ms/step - loss: 0.7142 - accuracy: 0.8530\n",
            "Epoch 80/80\n",
            "597/597 [==============================] - 17s 28ms/step - loss: 0.7097 - accuracy: 0.8542\n"
          ]
        },
        {
          "output_type": "execute_result",
          "data": {
            "text/plain": [
              "<keras.src.callbacks.History at 0x7ecfec2c2e00>"
            ]
          },
          "metadata": {},
          "execution_count": 22
        }
      ]
    },
    {
      "cell_type": "code",
      "source": [
        "text =\"example\"\n",
        "\n",
        "for  i in range(18):\n",
        "    token_text = tokenizer.texts_to_sequences([text])[0]\n",
        "    padded_token_text = pad_sequences([token_text],maxlen=19,padding='pre')\n",
        "    pos = np.argmax(model.predict(padded_token_text))\n",
        "    for word,index in tokenizer.word_index.items():\n",
        "        if index == pos:\n",
        "                text = text + \" \" + word\n",
        "                print(text)\n",
        "\n",
        "\n",
        "\n",
        "\n",
        "\n",
        "\n",
        "\n",
        "\n",
        "\n"
      ],
      "metadata": {
        "colab": {
          "base_uri": "https://localhost:8080/"
        },
        "id": "HS-a_B199NoL",
        "outputId": "9f5d0d22-15c7-4743-b656-78a75cc20743"
      },
      "execution_count": 28,
      "outputs": [
        {
          "output_type": "stream",
          "name": "stdout",
          "text": [
            "1/1 [==============================] - 0s 26ms/step\n",
            "example is\n",
            "1/1 [==============================] - 0s 25ms/step\n",
            "example is the\n",
            "1/1 [==============================] - 0s 26ms/step\n",
            "example is the matter\n",
            "1/1 [==============================] - 0s 26ms/step\n",
            "example is the matter that\n",
            "1/1 [==============================] - 0s 25ms/step\n",
            "example is the matter that this\n",
            "1/1 [==============================] - 0s 25ms/step\n",
            "example is the matter that this have\n",
            "1/1 [==============================] - 0s 25ms/step\n",
            "example is the matter that this have had\n",
            "1/1 [==============================] - 0s 25ms/step\n",
            "example is the matter that this have had an\n",
            "1/1 [==============================] - 0s 25ms/step\n",
            "example is the matter that this have had an experience\n",
            "1/1 [==============================] - 0s 24ms/step\n",
            "example is the matter that this have had an experience ”\n",
            "1/1 [==============================] - 0s 25ms/step\n",
            "example is the matter that this have had an experience ” said\n",
            "1/1 [==============================] - 0s 27ms/step\n",
            "example is the matter that this have had an experience ” said he\n",
            "1/1 [==============================] - 0s 25ms/step\n",
            "example is the matter that this have had an experience ” said he laughing\n",
            "1/1 [==============================] - 0s 25ms/step\n",
            "example is the matter that this have had an experience ” said he laughing “the\n",
            "1/1 [==============================] - 0s 26ms/step\n",
            "example is the matter that this have had an experience ” said he laughing “the matter\n",
            "1/1 [==============================] - 0s 25ms/step\n",
            "example is the matter that this have had an experience ” said he laughing “the matter was\n",
            "1/1 [==============================] - 0s 26ms/step\n",
            "example is the matter that this have had an experience ” said he laughing “the matter was the\n",
            "1/1 [==============================] - 0s 25ms/step\n",
            "example is the matter that this have had an experience ” said he laughing “the matter was the most\n"
          ]
        }
      ]
    },
    {
      "cell_type": "code",
      "source": [
        "import pickle\n",
        "pickle.dump(model,open('model.pkl','wb'))\n",
        "\n",
        "\n",
        "\n",
        "\n",
        "\n",
        "\n"
      ],
      "metadata": {
        "id": "08p_t5faDCys"
      },
      "execution_count": 29,
      "outputs": []
    }
  ]
}